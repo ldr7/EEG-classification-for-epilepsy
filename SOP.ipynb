{
 "cells": [
  {
   "cell_type": "code",
   "execution_count": 1,
   "metadata": {},
   "outputs": [
    {
     "name": "stdout",
     "output_type": "stream",
     "text": [
      "pro\n"
     ]
    }
   ],
   "source": [
    "print(\"pro\")"
   ]
  },
  {
   "cell_type": "code",
   "execution_count": 2,
   "metadata": {},
   "outputs": [],
   "source": [
    "import cesium"
   ]
  },
  {
   "cell_type": "code",
   "execution_count": 3,
   "metadata": {},
   "outputs": [],
   "source": [
    "from cesium import datasets"
   ]
  },
  {
   "cell_type": "code",
   "execution_count": 4,
   "metadata": {},
   "outputs": [],
   "source": [
    "import numpy"
   ]
  },
  {
   "cell_type": "code",
   "execution_count": 5,
   "metadata": {
    "scrolled": false
   },
   "outputs": [
    {
     "name": "stderr",
     "output_type": "stream",
     "text": [
      "Loaded data from cached archive.\n"
     ]
    }
   ],
   "source": [
    "eeg = datasets.fetch_andrzejak()\n"
   ]
  },
  {
   "cell_type": "code",
   "execution_count": 6,
   "metadata": {},
   "outputs": [],
   "source": [
    "import scipy\n"
   ]
  },
  {
   "cell_type": "code",
   "execution_count": 7,
   "metadata": {},
   "outputs": [],
   "source": [
    "eeg[\"classes\"] = eeg[\"classes\"].astype(\"U16\")"
   ]
  },
  {
   "cell_type": "code",
   "execution_count": 8,
   "metadata": {},
   "outputs": [],
   "source": [
    "import pywt"
   ]
  },
  {
   "cell_type": "code",
   "execution_count": 9,
   "metadata": {},
   "outputs": [],
   "source": [
    "n_channels=7\n",
    "eeg[\"dwts\"] = [pywt.wavedec(m, pywt.Wavelet(\"db2\"), level=n_channels-1)\n",
    "               for m in eeg[\"measurements\"]]"
   ]
  },
  {
   "cell_type": "code",
   "execution_count": 10,
   "metadata": {},
   "outputs": [
    {
     "data": {
      "text/plain": [
       "2050"
      ]
     },
     "execution_count": 10,
     "metadata": {},
     "output_type": "execute_result"
    }
   ],
   "source": [
    "len(eeg[\"dwts\"][0][6])"
   ]
  },
  {
   "cell_type": "code",
   "execution_count": 11,
   "metadata": {},
   "outputs": [],
   "source": [
    "from sklearn.cluster import KMeans"
   ]
  },
  {
   "cell_type": "code",
   "execution_count": null,
   "metadata": {},
   "outputs": [],
   "source": []
  },
  {
   "cell_type": "code",
   "execution_count": null,
   "metadata": {},
   "outputs": [],
   "source": []
  },
  {
   "cell_type": "code",
   "execution_count": 12,
   "metadata": {},
   "outputs": [
    {
     "data": {
      "text/plain": [
       "500"
      ]
     },
     "execution_count": 12,
     "metadata": {},
     "output_type": "execute_result"
    }
   ],
   "source": [
    "data = []\n",
    "for x in range(0, 500):\n",
    "    dp = [0,1,2,3,4,5,6]\n",
    "    ip=[]\n",
    "    for i in dp:\n",
    "        index = KMeans(n_clusters=8, random_state=0).fit_predict((eeg[\"dwts\"][x][i]).reshape(-1,1))\n",
    "        index1 = 0\n",
    "        index2 = 0\n",
    "        index3 = 0\n",
    "        index4 = 0\n",
    "        index5 = 0\n",
    "        index6 = 0\n",
    "        index7 = 0\n",
    "        index8 = 0\n",
    "        length = len(index)\n",
    "        for c in index:\n",
    "            if(c==0):\n",
    "                index1+=1\n",
    "            if(c==1):\n",
    "                index2+=1\n",
    "            if(c==2):\n",
    "                index3+=1\n",
    "            if(c==3):\n",
    "                index4+=1\n",
    "            if(c==4):\n",
    "                index5+=1\n",
    "            if(c==5):\n",
    "                index6+=1\n",
    "            if(c==6):\n",
    "                index7+=1\n",
    "            if(c==7):\n",
    "                index8+=1\n",
    "\n",
    "        ip.append(index1/length)\n",
    "        ip.append(index2/length)\n",
    "        ip.append(index3/length) \n",
    "        ip.append(index4/length) \n",
    "        ip.append(index5/length) \n",
    "        ip.append(index6/length)\n",
    "        ip.append(index7/length)\n",
    "        ip.append(index8/length)\n",
    "    data.append(ip)\n",
    "len(data)"
   ]
  },
  {
   "cell_type": "code",
   "execution_count": 13,
   "metadata": {},
   "outputs": [
    {
     "name": "stdout",
     "output_type": "stream",
     "text": [
      "[0.13636363636363635, 0.19696969696969696, 0.22727272727272727, 0.18181818181818182, 0.09090909090909091, 0.045454545454545456, 0.10606060606060606, 0.015151515151515152, 0.12121212121212122, 0.2727272727272727, 0.12121212121212122, 0.10606060606060606, 0.12121212121212122, 0.015151515151515152, 0.15151515151515152, 0.09090909090909091, 0.15384615384615385, 0.11538461538461539, 0.17692307692307693, 0.1, 0.05384615384615385, 0.15384615384615385, 0.1076923076923077, 0.13846153846153847, 0.2713178294573643, 0.031007751937984496, 0.17829457364341086, 0.12015503875968993, 0.05426356589147287, 0.16279069767441862, 0.12790697674418605, 0.05426356589147287, 0.3346303501945525, 0.04085603112840467, 0.11673151750972763, 0.07003891050583658, 0.1614785992217899, 0.038910505836575876, 0.07782101167315175, 0.15953307392996108, 0.42592592592592593, 0.03898635477582846, 0.05458089668615984, 0.1442495126705653, 0.1530214424951267, 0.017543859649122806, 0.10721247563352826, 0.05847953216374269, 0.4580487804878049, 0.016097560975609757, 0.046341463414634146, 0.05609756097560976, 0.09317073170731707, 0.037073170731707315, 0.1448780487804878, 0.14829268292682926]\n"
     ]
    }
   ],
   "source": [
    "print(ip)"
   ]
  },
  {
   "cell_type": "code",
   "execution_count": 14,
   "metadata": {},
   "outputs": [
    {
     "data": {
      "text/plain": [
       "2050"
      ]
     },
     "execution_count": 14,
     "metadata": {},
     "output_type": "execute_result"
    }
   ],
   "source": [
    "len(index)"
   ]
  },
  {
   "cell_type": "code",
   "execution_count": 15,
   "metadata": {},
   "outputs": [
    {
     "name": "stderr",
     "output_type": "stream",
     "text": [
      "Using TensorFlow backend.\n"
     ]
    }
   ],
   "source": [
    "from keras.models import Sequential\n",
    "from keras.layers import Dense, Activation\n",
    "from keras import optimizers"
   ]
  },
  {
   "cell_type": "code",
   "execution_count": 16,
   "metadata": {},
   "outputs": [],
   "source": [
    "model = Sequential()\n",
    "model.add(Dense(5, input_dim=56, activation='tanh'))\n",
    "model.add(Dense(1, activation='sigmoid'))\n",
    "rmsprop = optimizers.RMSprop(lr=0.0001, rho=0.9, epsilon=None, decay=0.0)\n",
    "model.compile(optimizer=rmsprop,\n",
    "              loss='binary_crossentropy',\n",
    "              metrics=['accuracy'])\n"
   ]
  },
  {
   "cell_type": "code",
   "execution_count": 17,
   "metadata": {},
   "outputs": [
    {
     "data": {
      "text/plain": [
       "500"
      ]
     },
     "execution_count": 17,
     "metadata": {},
     "output_type": "execute_result"
    }
   ],
   "source": [
    "result=[]\n",
    "for x in range(0, 200):\n",
    "    result.append(0)\n",
    "for x in range(200, 500):\n",
    "    result.append(1)\n",
    "len(result)"
   ]
  },
  {
   "cell_type": "code",
   "execution_count": 18,
   "metadata": {},
   "outputs": [
    {
     "data": {
      "text/plain": [
       "56"
      ]
     },
     "execution_count": 18,
     "metadata": {},
     "output_type": "execute_result"
    }
   ],
   "source": [
    "result[499]\n",
    "len(data[499])"
   ]
  },
  {
   "cell_type": "code",
   "execution_count": 19,
   "metadata": {},
   "outputs": [],
   "source": [
    "from sklearn.model_selection import train_test_split"
   ]
  },
  {
   "cell_type": "code",
   "execution_count": 20,
   "metadata": {},
   "outputs": [
    {
     "name": "stdout",
     "output_type": "stream",
     "text": [
      "(300, 56)\n",
      "(300,)\n",
      "(200, 56)\n",
      "(200,)\n"
     ]
    }
   ],
   "source": [
    "X_train, X_test, y_train, y_test = train_test_split(data, result,stratify=result,test_size=0.4)\n",
    "#print (X_train.len())\n",
    "#print (y_train.shape)\n",
    "#print (X_test.shape)\n",
    "#print (y_test.shape)\n",
    "print(numpy.shape(X_train))\n",
    "print(numpy.shape(y_train))\n",
    "print(numpy.shape(X_test))\n",
    "print(numpy.shape(y_test))"
   ]
  },
  {
   "cell_type": "code",
   "execution_count": 21,
   "metadata": {},
   "outputs": [
    {
     "name": "stdout",
     "output_type": "stream",
     "text": [
      "Epoch 1/50\n",
      "300/300 [==============================] - 1s 4ms/step - loss: 0.7050 - acc: 0.4733\n",
      "Epoch 2/50\n",
      "300/300 [==============================] - 0s 1ms/step - loss: 0.6933 - acc: 0.4800\n",
      "Epoch 3/50\n",
      "300/300 [==============================] - 0s 1ms/step - loss: 0.6862 - acc: 0.5333\n",
      "Epoch 4/50\n",
      "300/300 [==============================] - 0s 1ms/step - loss: 0.6822 - acc: 0.5933\n",
      "Epoch 5/50\n",
      "300/300 [==============================] - 0s 1ms/step - loss: 0.6799 - acc: 0.5967\n",
      "Epoch 6/50\n",
      "300/300 [==============================] - 0s 1ms/step - loss: 0.6783 - acc: 0.5933\n",
      "Epoch 7/50\n",
      "300/300 [==============================] - 0s 1ms/step - loss: 0.6774 - acc: 0.5967\n",
      "Epoch 8/50\n",
      "300/300 [==============================] - 0s 1ms/step - loss: 0.6765 - acc: 0.5967\n",
      "Epoch 9/50\n",
      "300/300 [==============================] - 0s 1ms/step - loss: 0.6754 - acc: 0.5967\n",
      "Epoch 10/50\n",
      "300/300 [==============================] - 1s 2ms/step - loss: 0.6751 - acc: 0.5967\n",
      "Epoch 11/50\n",
      "300/300 [==============================] - 0s 2ms/step - loss: 0.6743 - acc: 0.5967\n",
      "Epoch 12/50\n",
      "300/300 [==============================] - 0s 2ms/step - loss: 0.6740 - acc: 0.5967\n",
      "Epoch 13/50\n",
      "300/300 [==============================] - 1s 2ms/step - loss: 0.6729 - acc: 0.5967\n",
      "Epoch 14/50\n",
      "300/300 [==============================] - 0s 2ms/step - loss: 0.6726 - acc: 0.5967\n",
      "Epoch 15/50\n",
      "300/300 [==============================] - 0s 2ms/step - loss: 0.6720 - acc: 0.5967\n",
      "Epoch 16/50\n",
      "300/300 [==============================] - 0s 1ms/step - loss: 0.6716 - acc: 0.6000\n",
      "Epoch 17/50\n",
      "300/300 [==============================] - 1s 2ms/step - loss: 0.6709 - acc: 0.6000\n",
      "Epoch 18/50\n",
      "300/300 [==============================] - 0s 2ms/step - loss: 0.6703 - acc: 0.6000\n",
      "Epoch 19/50\n",
      "300/300 [==============================] - 0s 1ms/step - loss: 0.6695 - acc: 0.6000\n",
      "Epoch 20/50\n",
      "300/300 [==============================] - 0s 1ms/step - loss: 0.6689 - acc: 0.6000\n",
      "Epoch 21/50\n",
      "300/300 [==============================] - 0s 1ms/step - loss: 0.6683 - acc: 0.6000\n",
      "Epoch 22/50\n",
      "300/300 [==============================] - 0s 1ms/step - loss: 0.6677 - acc: 0.6000\n",
      "Epoch 23/50\n",
      "300/300 [==============================] - 0s 2ms/step - loss: 0.6672 - acc: 0.6000\n",
      "Epoch 24/50\n",
      "300/300 [==============================] - 1s 2ms/step - loss: 0.6668 - acc: 0.6000\n",
      "Epoch 25/50\n",
      "300/300 [==============================] - 0s 1ms/step - loss: 0.6658 - acc: 0.6000\n",
      "Epoch 26/50\n",
      "300/300 [==============================] - 0s 1ms/step - loss: 0.6654 - acc: 0.6000\n",
      "Epoch 27/50\n",
      "300/300 [==============================] - 0s 1ms/step - loss: 0.6649 - acc: 0.6000\n",
      "Epoch 28/50\n",
      "300/300 [==============================] - 0s 2ms/step - loss: 0.6641 - acc: 0.6000\n",
      "Epoch 29/50\n",
      "300/300 [==============================] - 1s 2ms/step - loss: 0.6636 - acc: 0.6000\n",
      "Epoch 30/50\n",
      "300/300 [==============================] - 1s 2ms/step - loss: 0.6629 - acc: 0.6000\n",
      "Epoch 31/50\n",
      "300/300 [==============================] - 1s 2ms/step - loss: 0.6625 - acc: 0.6000\n",
      "Epoch 32/50\n",
      "300/300 [==============================] - 0s 2ms/step - loss: 0.6618 - acc: 0.6000\n",
      "Epoch 33/50\n",
      "300/300 [==============================] - 0s 1ms/step - loss: 0.6614 - acc: 0.6000\n",
      "Epoch 34/50\n",
      "300/300 [==============================] - 0s 1ms/step - loss: 0.6606 - acc: 0.6000\n",
      "Epoch 35/50\n",
      "300/300 [==============================] - 0s 1ms/step - loss: 0.6603 - acc: 0.6000\n",
      "Epoch 36/50\n",
      "300/300 [==============================] - 0s 1ms/step - loss: 0.6596 - acc: 0.6000\n",
      "Epoch 37/50\n",
      "300/300 [==============================] - 0s 1ms/step - loss: 0.6589 - acc: 0.6000\n",
      "Epoch 38/50\n",
      "300/300 [==============================] - 0s 2ms/step - loss: 0.6586 - acc: 0.6000\n",
      "Epoch 39/50\n",
      "300/300 [==============================] - 0s 1ms/step - loss: 0.6578 - acc: 0.6000\n",
      "Epoch 40/50\n",
      "300/300 [==============================] - 0s 1ms/step - loss: 0.6571 - acc: 0.6000\n",
      "Epoch 41/50\n",
      "300/300 [==============================] - 0s 2ms/step - loss: 0.6566 - acc: 0.6000\n",
      "Epoch 42/50\n",
      "300/300 [==============================] - 0s 2ms/step - loss: 0.6561 - acc: 0.6000\n",
      "Epoch 43/50\n",
      "300/300 [==============================] - 1s 2ms/step - loss: 0.6556 - acc: 0.6000\n",
      "Epoch 44/50\n",
      "300/300 [==============================] - 1s 2ms/step - loss: 0.6550 - acc: 0.6000\n",
      "Epoch 45/50\n",
      "300/300 [==============================] - 0s 1ms/step - loss: 0.6542 - acc: 0.6000\n",
      "Epoch 46/50\n",
      "300/300 [==============================] - 1s 2ms/step - loss: 0.6540 - acc: 0.6000\n",
      "Epoch 47/50\n",
      "300/300 [==============================] - 0s 2ms/step - loss: 0.6532 - acc: 0.6000\n",
      "Epoch 48/50\n",
      "300/300 [==============================] - 0s 2ms/step - loss: 0.6525 - acc: 0.6000\n",
      "Epoch 49/50\n",
      "300/300 [==============================] - 0s 2ms/step - loss: 0.6518 - acc: 0.6000\n",
      "Epoch 50/50\n",
      "300/300 [==============================] - 0s 2ms/step - loss: 0.6514 - acc: 0.6000\n",
      "200/200 [==============================] - 0s 976us/step\n"
     ]
    }
   ],
   "source": [
    "model.fit(numpy.array(X_train), numpy.array(y_train),\n",
    "          epochs=50,batch_size=1)\n",
    "score = model.evaluate(numpy.array(X_test),numpy.array(y_test), batch_size=1)\n"
   ]
  },
  {
   "cell_type": "code",
   "execution_count": 22,
   "metadata": {},
   "outputs": [
    {
     "data": {
      "text/plain": [
       "[0.6646247699856758, 0.6]"
      ]
     },
     "execution_count": 22,
     "metadata": {},
     "output_type": "execute_result"
    }
   ],
   "source": [
    "score"
   ]
  },
  {
   "cell_type": "code",
   "execution_count": 23,
   "metadata": {},
   "outputs": [
    {
     "name": "stdout",
     "output_type": "stream",
     "text": [
      "_________________________________________________________________\n",
      "Layer (type)                 Output Shape              Param #   \n",
      "=================================================================\n",
      "dense_1 (Dense)              (None, 5)                 285       \n",
      "_________________________________________________________________\n",
      "dense_2 (Dense)              (None, 1)                 6         \n",
      "=================================================================\n",
      "Total params: 291\n",
      "Trainable params: 291\n",
      "Non-trainable params: 0\n",
      "_________________________________________________________________\n"
     ]
    }
   ],
   "source": [
    "model.summary()\n"
   ]
  },
  {
   "cell_type": "code",
   "execution_count": 24,
   "metadata": {},
   "outputs": [
    {
     "name": "stdout",
     "output_type": "stream",
     "text": [
      "feature amplitude percent_beyond_1_std maximum     max_slope median  \\\n",
      "channel         0                    0       0             0      0   \n",
      "0           143.5             0.327313   141.0  11107.796610   -4.0   \n",
      "1           211.5             0.290212   169.0  20653.559322  -51.0   \n",
      "2           165.0             0.302660   184.0  13537.627119   13.0   \n",
      "3           171.5             0.300952   162.0  17008.813559   -4.0   \n",
      "4           170.0             0.305101   152.0  13016.949153  -18.0   \n",
      "\n",
      "feature median_absolute_deviation percent_close_to_median minimum      skew  \\\n",
      "channel                         0                       0       0         0   \n",
      "0                            28.0                0.505004  -146.0  0.032805   \n",
      "1                            32.0                0.640469  -254.0 -0.092715   \n",
      "2                            31.0                0.515987  -146.0 -0.004100   \n",
      "3                            31.0                0.541128  -181.0  0.063678   \n",
      "4                            29.0                0.566268  -188.0  0.142753   \n",
      "\n",
      "feature        std weighted_average  \n",
      "channel          0                0  \n",
      "0        40.411000        -4.132048  \n",
      "1        48.812668       -52.444716  \n",
      "2        47.144789        12.705150  \n",
      "3        47.072316        -3.992433  \n",
      "4        44.910958       -17.999268  \n"
     ]
    }
   ],
   "source": [
    "from cesium import featurize\n",
    "features_to_use = [\"amplitude\",\n",
    "                   \"percent_beyond_1_std\",\n",
    "                   \"maximum\",\n",
    "                   \"max_slope\",\n",
    "                   \"median\",\n",
    "                   \"median_absolute_deviation\",\n",
    "                   \"percent_close_to_median\",\n",
    "                   \"minimum\",\n",
    "                   \"skew\",\n",
    "                   \"std\",\n",
    "                   \"weighted_average\"]\n",
    "fset_cesium = featurize.featurize_time_series(times=eeg[\"times\"],\n",
    "                                              values=eeg[\"measurements\"],\n",
    "                                              errors=None,\n",
    "                                              features_to_use=features_to_use)\n",
    "print(fset_cesium.head())"
   ]
  },
  {
   "cell_type": "code",
   "execution_count": 25,
   "metadata": {},
   "outputs": [],
   "source": [
    "import numpy as np\n",
    "import scipy.stats\n",
    "\n",
    "def mean_signal(t, m, e):\n",
    "    return np.mean(m)\n",
    "\n",
    "def std_signal(t, m, e):\n",
    "    return np.std(m)\n",
    "\n",
    "def mean_square_signal(t, m, e):\n",
    "    return np.mean(m ** 2)\n",
    "\n",
    "def abs_diffs_signal(t, m, e):\n",
    "    return np.sum(np.abs(np.diff(m)))\n",
    "\n",
    "def skew_signal(t, m, e):\n",
    "    return scipy.stats.skew(m)"
   ]
  },
  {
   "cell_type": "code",
   "execution_count": 26,
   "metadata": {},
   "outputs": [
    {
     "name": "stdout",
     "output_type": "stream",
     "text": [
      "feature        mean2       mean      skew        std abs_diffs\n",
      "channel            0          0         0          0         0\n",
      "0        1650.122773  -4.132048  0.032805  40.411000   46948.0\n",
      "1        5133.124725 -52.444716 -0.092715  48.812668   61118.0\n",
      "2        2384.051989  12.705150 -0.004100  47.144789   51269.0\n",
      "3        2231.742495  -3.992433  0.063678  47.072316   75014.0\n",
      "4        2340.967781 -17.999268  0.142753  44.910958   52873.0\n"
     ]
    }
   ],
   "source": [
    "guo_features = {\n",
    "    \"mean\": mean_signal,\n",
    "    \"std\": std_signal,\n",
    "    \"mean2\": mean_square_signal,\n",
    "    \"abs_diffs\": abs_diffs_signal,\n",
    "    \"skew\": skew_signal\n",
    "}\n",
    "\n",
    "fset_guo = featurize.featurize_time_series(times=eeg[\"times\"], values=eeg[\"measurements\"],\n",
    "                                           errors=None,\n",
    "                                           features_to_use=list(guo_features.keys()),\n",
    "                                           custom_functions=guo_features)\n",
    "print(fset_guo.head())"
   ]
  },
  {
   "cell_type": "code",
   "execution_count": 27,
   "metadata": {},
   "outputs": [
    {
     "name": "stdout",
     "output_type": "stream",
     "text": [
      "feature          mean2                                                        \\\n",
      "channel              0             1             2            3            4   \n",
      "0         30062.870852  10207.929373   5825.967002  5546.670935  3216.802624   \n",
      "1        200911.602497  16645.124399   8267.327747  9876.764535  5063.609754   \n",
      "2         44413.838670  17445.284632  10473.428690  8024.522749  3651.422455   \n",
      "3         20826.350863  11996.527751   7296.442497  8671.623599  4904.475281   \n",
      "4         56868.658032  13238.772970   5921.599640  7144.565974  3375.749935   \n",
      "\n",
      "feature                                 mean                        \\\n",
      "channel            5           6           0          1          2   \n",
      "0         425.874858   33.453288  -23.689623  17.272795   6.816418   \n",
      "1         821.614770   61.088168 -421.544159   5.119248 -11.762066   \n",
      "2         500.386700   38.858553   93.055745 -26.823275  -2.348890   \n",
      "3        1143.624462  130.582847  -38.543541  17.316768  -8.020088   \n",
      "4         555.347744   51.675270 -135.795448  10.070100  -1.075270   \n",
      "\n",
      "feature      ...             std                           abs_diffs  \\\n",
      "channel      ...               4          5          6             0   \n",
      "0            ...       56.705140  20.636593   5.783827  12522.858069   \n",
      "1            ...       71.151964  28.663814   7.815785  11910.933884   \n",
      "2            ...       60.388719  22.369005   6.233646  13512.070859   \n",
      "3            ...       70.021354  33.816731  11.425655   9510.512893   \n",
      "4            ...       58.065014  23.565817   7.188402  14134.988320   \n",
      "\n",
      "feature                                                                        \\\n",
      "channel             1             2             3             4             5   \n",
      "0         6964.681585  12684.026942  21317.896490  41041.500565  29713.786133   \n",
      "1        11137.023076  13138.787108  27033.595932  49078.720445  40493.547836   \n",
      "2        10720.098149  17274.311707  22457.556865  43031.294635  31717.331360   \n",
      "3         7946.170957  11887.455822  25137.020721  45772.823895  48653.500566   \n",
      "4         9513.728978  12719.844956  20707.505637  40802.678705  32278.513998   \n",
      "\n",
      "feature                \n",
      "channel             6  \n",
      "0        13817.939140  \n",
      "1        17837.910960  \n",
      "2        14122.514028  \n",
      "3        26150.592648  \n",
      "4        16716.475292  \n",
      "\n",
      "[5 rows x 35 columns]\n"
     ]
    }
   ],
   "source": [
    "fset_dwt = featurize.featurize_time_series(times=None, values=eeg[\"dwts\"], errors=None,\n",
    "                                           features_to_use=list(guo_features.keys()),\n",
    "                                           custom_functions=guo_features)\n",
    "print(fset_dwt.head())"
   ]
  },
  {
   "cell_type": "code",
   "execution_count": 28,
   "metadata": {},
   "outputs": [
    {
     "data": {
      "text/plain": [
       "KNeighborsClassifier(algorithm='auto', leaf_size=30, metric='minkowski',\n",
       "           metric_params=None, n_jobs=1, n_neighbors=3, p=2,\n",
       "           weights='uniform')"
      ]
     },
     "execution_count": 28,
     "metadata": {},
     "output_type": "execute_result"
    }
   ],
   "source": [
    "from sklearn.ensemble import RandomForestClassifier\n",
    "from sklearn.neighbors import KNeighborsClassifier\n",
    "from sklearn.model_selection import train_test_split\n",
    "\n",
    "train, test = train_test_split(np.arange(len(eeg[\"classes\"])), random_state=0)\n",
    "\n",
    "model_cesium = RandomForestClassifier(n_estimators=128, max_features=\"auto\",\n",
    "                                      random_state=0)\n",
    "model_cesium.fit(fset_cesium.iloc[train], eeg[\"classes\"][train])\n",
    "\n",
    "model_guo = KNeighborsClassifier(3)\n",
    "model_guo.fit(fset_guo.iloc[train], eeg[\"classes\"][train])\n",
    "\n",
    "model_dwt = KNeighborsClassifier(3)\n",
    "model_dwt.fit(fset_dwt.iloc[train], eeg[\"classes\"][train])"
   ]
  },
  {
   "cell_type": "code",
   "execution_count": 29,
   "metadata": {},
   "outputs": [
    {
     "name": "stdout",
     "output_type": "stream",
     "text": [
      "Built-in cesium features: training accuracy=100.00%, test accuracy=71.20%\n",
      "Guo et al. features: training accuracy=83.47%, test accuracy=64.80%\n",
      "Wavelet transform features: training accuracy=88.27%, test accuracy=79.20%\n"
     ]
    }
   ],
   "source": [
    "from sklearn.metrics import accuracy_score\n",
    "\n",
    "preds_cesium = model_cesium.predict(fset_cesium)\n",
    "preds_guo = model_guo.predict(fset_guo)\n",
    "preds_dwt = model_dwt.predict(fset_dwt)\n",
    "\n",
    "print(\"Built-in cesium features: training accuracy={:.2%}, test accuracy={:.2%}\".format(\n",
    "          accuracy_score(preds_cesium[train], eeg[\"classes\"][train]),\n",
    "          accuracy_score(preds_cesium[test], eeg[\"classes\"][test])))\n",
    "print(\"Guo et al. features: training accuracy={:.2%}, test accuracy={:.2%}\".format(\n",
    "          accuracy_score(preds_guo[train], eeg[\"classes\"][train]),\n",
    "          accuracy_score(preds_guo[test], eeg[\"classes\"][test])))\n",
    "print(\"Wavelet transform features: training accuracy={:.2%}, test accuracy={:.2%}\".format(\n",
    "          accuracy_score(preds_dwt[train], eeg[\"classes\"][train]),\n",
    "          accuracy_score(preds_dwt[test], eeg[\"classes\"][test])))"
   ]
  },
  {
   "cell_type": "code",
   "execution_count": 30,
   "metadata": {},
   "outputs": [
    {
     "data": {
      "text/plain": [
       "pandas.core.frame.DataFrame"
      ]
     },
     "execution_count": 30,
     "metadata": {},
     "output_type": "execute_result"
    }
   ],
   "source": [
    "type(fset_dwt)"
   ]
  },
  {
   "cell_type": "code",
   "execution_count": 31,
   "metadata": {},
   "outputs": [
    {
     "name": "stdout",
     "output_type": "stream",
     "text": [
      "[[  30062.8708517    10207.92937265    5825.9670023  ...   41041.50056515\n",
      "    29713.78613278   13817.93914032]\n",
      " [ 200911.60249697   16645.12439893    8267.3277472  ...   49078.7204449\n",
      "    40493.54783627   17837.91095994]\n",
      " [  44413.83867006   17445.28463219   10473.42869033 ...   43031.29463546\n",
      "    31717.33136014   14122.51402848]\n",
      " ...\n",
      " [ 215642.85196534  630264.26919028  709263.46518451 ...  408015.3528465\n",
      "   347128.22454911  113080.09030677]\n",
      " [1968246.72666235 1510692.65061669 1628879.2886554  ...  481164.27251544\n",
      "   431420.69959783  142841.83116537]\n",
      " [ 613778.63514278 1450463.84501033 2053943.01794631 ...  453838.30799646\n",
      "   318848.61652704  100006.41631295]]\n"
     ]
    }
   ],
   "source": [
    "'''put new feature of dwt subbands into a NN from hereon'''\n",
    "data1  = fset_dwt.values\n",
    "print(data1)"
   ]
  },
  {
   "cell_type": "code",
   "execution_count": 32,
   "metadata": {},
   "outputs": [
    {
     "data": {
      "text/plain": [
       "500"
      ]
     },
     "execution_count": 32,
     "metadata": {},
     "output_type": "execute_result"
    }
   ],
   "source": [
    "len(eeg[\"classes\"])"
   ]
  },
  {
   "cell_type": "code",
   "execution_count": 33,
   "metadata": {},
   "outputs": [
    {
     "data": {
      "text/plain": [
       "500"
      ]
     },
     "execution_count": 33,
     "metadata": {},
     "output_type": "execute_result"
    }
   ],
   "source": [
    "result1=[]\n",
    "for x in range(0, 200):\n",
    "    result1.append(0)\n",
    "for x in range(200, 500):\n",
    "    result1.append(1)\n",
    "len(result1)"
   ]
  },
  {
   "cell_type": "code",
   "execution_count": 34,
   "metadata": {},
   "outputs": [],
   "source": [
    "model1 = Sequential()\n",
    "model1.add(Dense(5, input_dim=35, activation='tanh'))\n",
    "model1.add(Dense(1, activation='sigmoid'))\n",
    "rmsprop1 = optimizers.RMSprop(lr=0.05, rho=0.9, epsilon=None, decay=0.0)\n",
    "model1.compile(optimizer=rmsprop1,\n",
    "              loss='binary_crossentropy',\n",
    "              metrics=['accuracy'])"
   ]
  },
  {
   "cell_type": "code",
   "execution_count": 35,
   "metadata": {},
   "outputs": [
    {
     "name": "stdout",
     "output_type": "stream",
     "text": [
      "(300, 35)\n",
      "(300,)\n",
      "(200, 35)\n",
      "(200,)\n"
     ]
    }
   ],
   "source": [
    "X_train1, X_test1, y_train1, y_test1 = train_test_split(data1, result1,stratify=result1,test_size=0.4)\n",
    "print(numpy.shape(X_train1))\n",
    "print(numpy.shape(y_train1))\n",
    "print(numpy.shape(X_test1))\n",
    "print(numpy.shape(y_test1))"
   ]
  },
  {
   "cell_type": "code",
   "execution_count": 36,
   "metadata": {},
   "outputs": [
    {
     "name": "stdout",
     "output_type": "stream",
     "text": [
      "Epoch 1/60\n",
      "300/300 [==============================] - 1s 2ms/step - loss: 0.5151 - acc: 0.6633\n",
      "Epoch 2/60\n",
      "300/300 [==============================] - 0s 1ms/step - loss: 0.4403 - acc: 0.7233\n",
      "Epoch 3/60\n",
      "300/300 [==============================] - 0s 1ms/step - loss: 0.4582 - acc: 0.6933\n",
      "Epoch 4/60\n",
      "300/300 [==============================] - 0s 1ms/step - loss: 0.4444 - acc: 0.7433\n",
      "Epoch 5/60\n",
      "300/300 [==============================] - 0s 1ms/step - loss: 0.4457 - acc: 0.7067\n",
      "Epoch 6/60\n",
      "300/300 [==============================] - 0s 1ms/step - loss: 0.4467 - acc: 0.6933\n",
      "Epoch 7/60\n",
      "300/300 [==============================] - 0s 1ms/step - loss: 0.4393 - acc: 0.7167\n",
      "Epoch 8/60\n",
      "300/300 [==============================] - 0s 1ms/step - loss: 0.4390 - acc: 0.7167\n",
      "Epoch 9/60\n",
      "300/300 [==============================] - 1s 2ms/step - loss: 0.4324 - acc: 0.7233\n",
      "Epoch 10/60\n",
      "300/300 [==============================] - 1s 2ms/step - loss: 0.4348 - acc: 0.7267\n",
      "Epoch 11/60\n",
      "300/300 [==============================] - 0s 2ms/step - loss: 0.4377 - acc: 0.7067\n",
      "Epoch 12/60\n",
      "300/300 [==============================] - 0s 2ms/step - loss: 0.4360 - acc: 0.6867\n",
      "Epoch 13/60\n",
      "300/300 [==============================] - 0s 1ms/step - loss: 0.4354 - acc: 0.7200\n",
      "Epoch 14/60\n",
      "300/300 [==============================] - 0s 1ms/step - loss: 0.4404 - acc: 0.7000\n",
      "Epoch 15/60\n",
      "300/300 [==============================] - 0s 1ms/step - loss: 0.4341 - acc: 0.7300\n",
      "Epoch 16/60\n",
      "300/300 [==============================] - 1s 2ms/step - loss: 0.4327 - acc: 0.7233\n",
      "Epoch 17/60\n",
      "300/300 [==============================] - 0s 2ms/step - loss: 0.4364 - acc: 0.7100\n",
      "Epoch 18/60\n",
      "300/300 [==============================] - 0s 1ms/step - loss: 0.4359 - acc: 0.7400\n",
      "Epoch 19/60\n",
      "300/300 [==============================] - 0s 1ms/step - loss: 0.4375 - acc: 0.6833\n",
      "Epoch 20/60\n",
      "300/300 [==============================] - 0s 1ms/step - loss: 0.4373 - acc: 0.7000\n",
      "Epoch 21/60\n",
      "300/300 [==============================] - 0s 1ms/step - loss: 0.4393 - acc: 0.7133\n",
      "Epoch 22/60\n",
      "300/300 [==============================] - 0s 1ms/step - loss: 0.4330 - acc: 0.7167\n",
      "Epoch 23/60\n",
      "300/300 [==============================] - 0s 1ms/step - loss: 0.4372 - acc: 0.7200\n",
      "Epoch 24/60\n",
      "300/300 [==============================] - 0s 1ms/step - loss: 0.4452 - acc: 0.6733\n",
      "Epoch 25/60\n",
      "300/300 [==============================] - 0s 1ms/step - loss: 0.4346 - acc: 0.7100\n",
      "Epoch 26/60\n",
      "300/300 [==============================] - 0s 1ms/step - loss: 0.4286 - acc: 0.7233\n",
      "Epoch 27/60\n",
      "300/300 [==============================] - 0s 1ms/step - loss: 0.4351 - acc: 0.6967\n",
      "Epoch 28/60\n",
      "300/300 [==============================] - 0s 1ms/step - loss: 0.4441 - acc: 0.6900\n",
      "Epoch 29/60\n",
      "300/300 [==============================] - 0s 1ms/step - loss: 0.4299 - acc: 0.7533\n",
      "Epoch 30/60\n",
      "300/300 [==============================] - 0s 1ms/step - loss: 0.4403 - acc: 0.6800\n",
      "Epoch 31/60\n",
      "300/300 [==============================] - 0s 1ms/step - loss: 0.4373 - acc: 0.7100\n",
      "Epoch 32/60\n",
      "300/300 [==============================] - 0s 1ms/step - loss: 0.4273 - acc: 0.7367\n",
      "Epoch 33/60\n",
      "300/300 [==============================] - 0s 1ms/step - loss: 0.4347 - acc: 0.7200\n",
      "Epoch 34/60\n",
      "300/300 [==============================] - 0s 1ms/step - loss: 0.4351 - acc: 0.7267\n",
      "Epoch 35/60\n",
      "300/300 [==============================] - 0s 1ms/step - loss: 0.4368 - acc: 0.7133\n",
      "Epoch 36/60\n",
      "300/300 [==============================] - 0s 2ms/step - loss: 0.4292 - acc: 0.7167\n",
      "Epoch 37/60\n",
      "300/300 [==============================] - 0s 1ms/step - loss: 0.4337 - acc: 0.7300\n",
      "Epoch 38/60\n",
      "300/300 [==============================] - 0s 1ms/step - loss: 0.4251 - acc: 0.7500\n",
      "Epoch 39/60\n",
      "300/300 [==============================] - 0s 1ms/step - loss: 0.4375 - acc: 0.6867\n",
      "Epoch 40/60\n",
      "300/300 [==============================] - 0s 1ms/step - loss: 0.4412 - acc: 0.6800\n",
      "Epoch 41/60\n",
      "300/300 [==============================] - 0s 1ms/step - loss: 0.4247 - acc: 0.7267\n",
      "Epoch 42/60\n",
      "300/300 [==============================] - 0s 1ms/step - loss: 0.4311 - acc: 0.7300\n",
      "Epoch 43/60\n",
      "300/300 [==============================] - 0s 1ms/step - loss: 0.4287 - acc: 0.7367\n",
      "Epoch 44/60\n",
      "300/300 [==============================] - 0s 1ms/step - loss: 0.4411 - acc: 0.6733\n",
      "Epoch 45/60\n",
      "300/300 [==============================] - 0s 1ms/step - loss: 0.4335 - acc: 0.7333\n",
      "Epoch 46/60\n",
      "300/300 [==============================] - 0s 1ms/step - loss: 0.4357 - acc: 0.6900\n",
      "Epoch 47/60\n",
      "300/300 [==============================] - 0s 1ms/step - loss: 0.4391 - acc: 0.6767\n",
      "Epoch 48/60\n",
      "300/300 [==============================] - 0s 1ms/step - loss: 0.4321 - acc: 0.7200\n",
      "Epoch 49/60\n",
      "300/300 [==============================] - 0s 1ms/step - loss: 0.4263 - acc: 0.7433\n",
      "Epoch 50/60\n",
      "300/300 [==============================] - 0s 1ms/step - loss: 0.4341 - acc: 0.7033\n",
      "Epoch 51/60\n",
      "300/300 [==============================] - 0s 1ms/step - loss: 0.4161 - acc: 0.7667\n",
      "Epoch 52/60\n",
      "300/300 [==============================] - 0s 1ms/step - loss: 0.4069 - acc: 0.8000\n",
      "Epoch 53/60\n",
      "300/300 [==============================] - 0s 1ms/step - loss: 0.4351 - acc: 0.7267\n",
      "Epoch 54/60\n",
      "300/300 [==============================] - 0s 1ms/step - loss: 0.4392 - acc: 0.6833\n",
      "Epoch 55/60\n",
      "300/300 [==============================] - 0s 1ms/step - loss: 0.4168 - acc: 0.7267\n",
      "Epoch 56/60\n",
      "300/300 [==============================] - 0s 1ms/step - loss: 0.4338 - acc: 0.7133\n",
      "Epoch 57/60\n",
      "300/300 [==============================] - 0s 1ms/step - loss: 0.4372 - acc: 0.7100\n",
      "Epoch 58/60\n",
      "300/300 [==============================] - 0s 1ms/step - loss: 0.4430 - acc: 0.6533\n",
      "Epoch 59/60\n",
      "300/300 [==============================] - 0s 1ms/step - loss: 0.4320 - acc: 0.7367\n",
      "Epoch 60/60\n",
      "300/300 [==============================] - 0s 1ms/step - loss: 0.4271 - acc: 0.7400\n",
      "200/200 [==============================] - 0s 1ms/step\n"
     ]
    },
    {
     "data": {
      "text/plain": [
       "[0.440992369193683, 0.705]"
      ]
     },
     "execution_count": 36,
     "metadata": {},
     "output_type": "execute_result"
    }
   ],
   "source": [
    "model1.fit(numpy.array(X_train1), numpy.array(y_train1),\n",
    "          epochs=60,batch_size=1)\n",
    "score1 = model1.evaluate(numpy.array(X_test1),numpy.array(y_test1), batch_size=1)\n",
    "score1"
   ]
  },
  {
   "cell_type": "code",
   "execution_count": 37,
   "metadata": {},
   "outputs": [],
   "source": [
    "X_train2, X_test2, y_train2, y_test2 = train_test_split(data1, result1,stratify=result1,test_size=0.4)\n"
   ]
  },
  {
   "cell_type": "code",
   "execution_count": 38,
   "metadata": {},
   "outputs": [],
   "source": [
    "#model2 with additional hidden layers, sigmoid in 2nd one gives better accuracy\n",
    "model2 = Sequential()\n",
    "model2.add(Dense(20, input_dim=35, activation='tanh'))\n",
    "model2.add(Dense(10, activation='sigmoid'))\n",
    "model2.add(Dense(5, activation='sigmoid'))\n",
    "model2.add(Dense(3, activation='sigmoid'))\n",
    "model2.add(Dense(1, activation='sigmoid'))\n",
    "rmsprop2 = optimizers.RMSprop(lr=0.002, rho=0.9, epsilon=None, decay=0.0)\n",
    "model2.compile(optimizer=rmsprop2,\n",
    "              loss='binary_crossentropy',\n",
    "              metrics=['accuracy'])\n"
   ]
  },
  {
   "cell_type": "code",
   "execution_count": 39,
   "metadata": {},
   "outputs": [
    {
     "name": "stdout",
     "output_type": "stream",
     "text": [
      "Epoch 1/50\n",
      "300/300 [==============================] - 1s 2ms/step - loss: 0.6485 - acc: 0.6000\n",
      "Epoch 2/50\n",
      "300/300 [==============================] - 0s 1ms/step - loss: 0.5675 - acc: 0.6867\n",
      "Epoch 3/50\n",
      "300/300 [==============================] - 1s 2ms/step - loss: 0.4758 - acc: 0.8200\n",
      "Epoch 4/50\n",
      "300/300 [==============================] - 0s 1ms/step - loss: 0.4030 - acc: 0.8633\n",
      "Epoch 5/50\n",
      "300/300 [==============================] - 0s 1ms/step - loss: 0.3562 - acc: 0.8700\n",
      "Epoch 6/50\n",
      "300/300 [==============================] - 0s 1ms/step - loss: 0.3286 - acc: 0.8667\n",
      "Epoch 7/50\n",
      "300/300 [==============================] - 0s 2ms/step - loss: 0.3102 - acc: 0.8533\n",
      "Epoch 8/50\n",
      "300/300 [==============================] - 0s 2ms/step - loss: 0.2978 - acc: 0.8633\n",
      "Epoch 9/50\n",
      "300/300 [==============================] - 0s 2ms/step - loss: 0.2842 - acc: 0.8767\n",
      "Epoch 10/50\n",
      "300/300 [==============================] - 0s 1ms/step - loss: 0.2801 - acc: 0.8733\n",
      "Epoch 11/50\n",
      "300/300 [==============================] - 0s 1ms/step - loss: 0.2832 - acc: 0.8533\n",
      "Epoch 12/50\n",
      "300/300 [==============================] - 0s 1ms/step - loss: 0.2812 - acc: 0.8767\n",
      "Epoch 13/50\n",
      "300/300 [==============================] - 0s 1ms/step - loss: 0.2758 - acc: 0.8633\n",
      "Epoch 14/50\n",
      "300/300 [==============================] - 0s 2ms/step - loss: 0.2731 - acc: 0.8667\n",
      "Epoch 15/50\n",
      "300/300 [==============================] - 0s 1ms/step - loss: 0.2715 - acc: 0.8833\n",
      "Epoch 16/50\n",
      "300/300 [==============================] - 0s 1ms/step - loss: 0.2644 - acc: 0.8833\n",
      "Epoch 17/50\n",
      "300/300 [==============================] - 0s 1ms/step - loss: 0.2630 - acc: 0.8733\n",
      "Epoch 18/50\n",
      "300/300 [==============================] - 0s 1ms/step - loss: 0.2652 - acc: 0.8633\n",
      "Epoch 19/50\n",
      "300/300 [==============================] - 0s 1ms/step - loss: 0.2634 - acc: 0.8700\n",
      "Epoch 20/50\n",
      "300/300 [==============================] - 0s 1ms/step - loss: 0.2595 - acc: 0.8667\n",
      "Epoch 21/50\n",
      "300/300 [==============================] - 0s 1ms/step - loss: 0.2524 - acc: 0.8933\n",
      "Epoch 22/50\n",
      "300/300 [==============================] - 0s 1ms/step - loss: 0.2611 - acc: 0.8733\n",
      "Epoch 23/50\n",
      "300/300 [==============================] - 0s 1ms/step - loss: 0.2605 - acc: 0.8700\n",
      "Epoch 24/50\n",
      "300/300 [==============================] - 0s 1ms/step - loss: 0.2559 - acc: 0.8767\n",
      "Epoch 25/50\n",
      "300/300 [==============================] - 0s 2ms/step - loss: 0.2516 - acc: 0.8800\n",
      "Epoch 26/50\n",
      "300/300 [==============================] - 1s 2ms/step - loss: 0.2552 - acc: 0.8667\n",
      "Epoch 27/50\n",
      "300/300 [==============================] - 0s 2ms/step - loss: 0.2554 - acc: 0.8667\n",
      "Epoch 28/50\n",
      "300/300 [==============================] - 0s 2ms/step - loss: 0.2547 - acc: 0.8767\n",
      "Epoch 29/50\n",
      "300/300 [==============================] - 0s 2ms/step - loss: 0.2476 - acc: 0.8833\n",
      "Epoch 30/50\n",
      "300/300 [==============================] - 0s 2ms/step - loss: 0.2559 - acc: 0.8633\n",
      "Epoch 31/50\n",
      "300/300 [==============================] - 0s 2ms/step - loss: 0.2510 - acc: 0.8800\n",
      "Epoch 32/50\n",
      "300/300 [==============================] - 0s 2ms/step - loss: 0.2405 - acc: 0.8900\n",
      "Epoch 33/50\n",
      "300/300 [==============================] - 0s 2ms/step - loss: 0.2488 - acc: 0.8667\n",
      "Epoch 34/50\n",
      "300/300 [==============================] - 0s 2ms/step - loss: 0.2467 - acc: 0.8733\n",
      "Epoch 35/50\n",
      "300/300 [==============================] - 0s 2ms/step - loss: 0.2378 - acc: 0.8833\n",
      "Epoch 36/50\n",
      "300/300 [==============================] - 0s 2ms/step - loss: 0.2437 - acc: 0.8767\n",
      "Epoch 37/50\n",
      "300/300 [==============================] - 1s 2ms/step - loss: 0.2384 - acc: 0.8800\n",
      "Epoch 38/50\n",
      "300/300 [==============================] - 1s 2ms/step - loss: 0.2442 - acc: 0.8767\n",
      "Epoch 39/50\n",
      "300/300 [==============================] - 0s 2ms/step - loss: 0.2453 - acc: 0.8800\n",
      "Epoch 40/50\n",
      "300/300 [==============================] - 0s 2ms/step - loss: 0.2336 - acc: 0.8933\n",
      "Epoch 41/50\n",
      "300/300 [==============================] - 0s 2ms/step - loss: 0.2480 - acc: 0.8767\n",
      "Epoch 42/50\n",
      "300/300 [==============================] - 1s 2ms/step - loss: 0.2399 - acc: 0.8900\n",
      "Epoch 43/50\n",
      "300/300 [==============================] - 1s 2ms/step - loss: 0.2406 - acc: 0.8833\n",
      "Epoch 44/50\n",
      "300/300 [==============================] - 0s 2ms/step - loss: 0.2323 - acc: 0.8933\n",
      "Epoch 45/50\n",
      "300/300 [==============================] - 0s 2ms/step - loss: 0.2404 - acc: 0.8867\n",
      "Epoch 46/50\n",
      "300/300 [==============================] - 0s 2ms/step - loss: 0.2415 - acc: 0.8900\n",
      "Epoch 47/50\n",
      "300/300 [==============================] - 0s 2ms/step - loss: 0.2302 - acc: 0.8833\n",
      "Epoch 48/50\n",
      "300/300 [==============================] - 0s 2ms/step - loss: 0.2360 - acc: 0.8867\n",
      "Epoch 49/50\n",
      "300/300 [==============================] - 0s 2ms/step - loss: 0.2372 - acc: 0.8867\n",
      "Epoch 50/50\n",
      "300/300 [==============================] - 0s 2ms/step - loss: 0.2398 - acc: 0.8833\n",
      "200/200 [==============================] - 0s 1ms/step\n"
     ]
    },
    {
     "data": {
      "text/plain": [
       "[0.26801480679539963, 0.845]"
      ]
     },
     "execution_count": 39,
     "metadata": {},
     "output_type": "execute_result"
    }
   ],
   "source": [
    "model2.fit(numpy.array(X_train2), numpy.array(y_train2),\n",
    "          epochs=50,batch_size=1)\n",
    "score2 = model2.evaluate(numpy.array(X_test2),numpy.array(y_test2), batch_size=1)\n",
    "score2"
   ]
  },
  {
   "cell_type": "code",
   "execution_count": 40,
   "metadata": {},
   "outputs": [
    {
     "data": {
      "text/plain": [
       "KNeighborsClassifier(algorithm='auto', leaf_size=30, metric='minkowski',\n",
       "           metric_params=None, n_jobs=1, n_neighbors=2, p=2,\n",
       "           weights='uniform')"
      ]
     },
     "execution_count": 40,
     "metadata": {},
     "output_type": "execute_result"
    }
   ],
   "source": [
    "#knn for binary classification\n",
    "model_dwt1 = KNeighborsClassifier(2)\n",
    "train, test = train_test_split(np.arange(len(eeg[\"classes\"])), random_state=0)\n",
    "model_dwt1.fit(fset_dwt.iloc[train], eeg[\"classes\"][train])"
   ]
  },
  {
   "cell_type": "code",
   "execution_count": 41,
   "metadata": {},
   "outputs": [
    {
     "name": "stdout",
     "output_type": "stream",
     "text": [
      "Wavelet transform features: training accuracy=90.93%, test accuracy=74.40%\n"
     ]
    }
   ],
   "source": [
    "preds_dwt1 = model_dwt1.predict(fset_dwt)\n",
    "print(\"Wavelet transform features: training accuracy={:.2%}, test accuracy={:.2%}\".format(\n",
    "          accuracy_score(preds_dwt1[train], eeg[\"classes\"][train]),\n",
    "          accuracy_score(preds_dwt1[test], eeg[\"classes\"][test])))\n"
   ]
  },
  {
   "cell_type": "code",
   "execution_count": 42,
   "metadata": {},
   "outputs": [],
   "source": [
    "#knn for binary epileptic somehow better than above always 95+ acc.\n",
    "total = 0\n",
    "for x in range(0, 2000):\n",
    "    X_train3, X_test3, y_train3,y_test3 = train_test_split(data1, result1,stratify=result1,test_size=0.4)\n",
    "    model_dwt2 = KNeighborsClassifier(2)\n",
    "    model_dwt2.fit(X_train3,y_train3)\n",
    "    score3 = accuracy_score(y_test3,model_dwt2.predict(X_test3))\n",
    "    total+=score3"
   ]
  },
  {
   "cell_type": "code",
   "execution_count": 43,
   "metadata": {},
   "outputs": [
    {
     "data": {
      "text/plain": [
       "0.9585999999999993"
      ]
     },
     "execution_count": 43,
     "metadata": {},
     "output_type": "execute_result"
    }
   ],
   "source": [
    "score_avg = total/2000\n",
    "score_avg"
   ]
  },
  {
   "cell_type": "code",
   "execution_count": null,
   "metadata": {},
   "outputs": [],
   "source": []
  }
 ],
 "metadata": {
  "kernelspec": {
   "display_name": "Python 3",
   "language": "python",
   "name": "python3"
  },
  "language_info": {
   "codemirror_mode": {
    "name": "ipython",
    "version": 3
   },
   "file_extension": ".py",
   "mimetype": "text/x-python",
   "name": "python",
   "nbconvert_exporter": "python",
   "pygments_lexer": "ipython3",
   "version": "3.5.2"
  }
 },
 "nbformat": 4,
 "nbformat_minor": 2
}
